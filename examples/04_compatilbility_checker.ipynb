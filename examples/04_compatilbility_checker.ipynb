{
 "cells": [
  {
   "cell_type": "markdown",
   "metadata": {},
   "source": [
    "# Check how LAI package works with the downloaded Sentinel-1, Sentinel-2, and ERA-5 data\n",
    "\n",
    "---\n"
   ]
  },
  {
   "cell_type": "markdown",
   "metadata": {},
   "source": [
    "## Get a list of Sentinel 1 and 2 data downloaded\n",
    "There is no need to unzip the files downloaded using SNAP."
   ]
  },
  {
   "cell_type": "code",
   "execution_count": 4,
   "metadata": {},
   "outputs": [],
   "source": [
    "# Update sys path so notebook can access the LAI package\n",
    "import sys\n",
    "sys.path.append('../')"
   ]
  },
  {
   "cell_type": "code",
   "execution_count": 8,
   "metadata": {},
   "outputs": [
    {
     "name": "stdout",
     "output_type": "stream",
     "text": [
      "['S1A_IW_GRDH_1SDV_20190602T175033_20190602T175058_027504_031A7F_0303.zip', 'S1A_IW_GRDH_1SDV_20190602T175033_20190602T175058_027504_031A7F_94ED.zip', 'S1A_IW_GRDH_1SDV_20190604T062204_20190604T062229_027526_031B26_CA5A.zip', 'S1A_IW_GRDH_1SDV_20190604T062212_20190604T062237_027526_031B26_96D5.zip', 'S1A_IW_GRDH_1SDV_20190607T175845_20190607T175910_027577_031CAE_3295.zip', 'S1A_IW_GRDH_1SDV_20190607T175845_20190607T175910_027577_031CAE_FA6E.zip', 'S1A_IW_GRDH_1SDV_20190609T063019_20190609T063044_027599_031D5A_D642.zip', 'S1A_IW_GRDH_1SDV_20190609T063022_20190609T063047_027599_031D5A_B62D.zip', 'S1A_IW_GRDH_1SDV_20190614T175033_20190614T175058_027679_031FCB_0275.zip', 'S1A_IW_GRDH_1SDV_20190614T175033_20190614T175058_027679_031FCB_3C3D.zip', 'S1B_IW_GRDH_1SDV_20190601T175752_20190601T175817_016506_01F115_181A.zip', 'S1B_IW_GRDH_1SDV_20190601T175752_20190601T175817_016506_01F115_AF1B.zip', 'S1B_IW_GRDH_1SDV_20190603T062928_20190603T062953_016528_01F1C5_126E.zip', 'S1B_IW_GRDH_1SDV_20190608T174945_20190608T175010_016608_01F423_4792.zip', 'S1B_IW_GRDH_1SDV_20190608T174945_20190608T175010_016608_01F423_88F8.zip', 'S1B_IW_GRDH_1SDV_20190610T062117_20190610T062142_016630_01F4CC_28C8.zip', 'S1B_IW_GRDH_1SDV_20190610T062122_20190610T062147_016630_01F4CC_0C29.zip', 'S1B_IW_GRDH_1SDV_20190613T175753_20190613T175818_016681_01F64B_025E.zip', 'S1B_IW_GRDH_1SDV_20190613T175753_20190613T175818_016681_01F64B_D0A5.zip', 'S1B_IW_GRDH_1SDV_20190615T062929_20190615T062954_016703_01F6F5_2D9F.zip', 'S1B_IW_GRDH_1SDV_20190615T062938_20190615T063003_016703_01F6F5_9823.zip']\n",
      "['S2A_MSIL2A_20190604T112121_N0212_R037_T30UWF_20190604T141449.zip', 'S2A_MSIL2A_20190604T112121_N0212_R037_T30UWG_20190604T141449.zip', 'S2A_MSIL2A_20190604T112121_N0500_R037_T30UWF_20230723T065324.zip', 'S2A_MSIL2A_20190604T112121_N0500_R037_T30UWG_20230723T065324.zip', 'S2A_MSIL2A_20190614T112121_N0212_R037_T30UWF_20190614T124042.zip', 'S2A_MSIL2A_20190614T112121_N0212_R037_T30UWG_20190614T124042.zip', 'S2A_MSIL2A_20190614T112121_N0500_R037_T30UWF_20230606T020247.zip', 'S2A_MSIL2A_20190614T112121_N0500_R037_T30UWG_20230606T020247.zip', 'S2B_MSIL2A_20190609T112119_N0212_R037_T30UWF_20190609T142230.zip', 'S2B_MSIL2A_20190609T112119_N0212_R037_T30UWG_20190609T142230.zip', 'S2B_MSIL2A_20190609T112119_N0500_R037_T30UWF_20230605T191405.zip', 'S2B_MSIL2A_20190609T112119_N0500_R037_T30UWG_20230605T191405.zip']\n"
     ]
    }
   ],
   "source": [
    "import os\n",
    "\n",
    "# List the files in the sentinel 1 and 2 folders\n",
    "# Sentinel 1\n",
    "sent1_folder_path = '../resources/sentinel_1'\n",
    "sent1_file_list = os.listdir(sent1_folder_path)\n",
    "print(sent1_file_list)\n",
    "# Sentinel 2\n",
    "sent2_folder_path = '../resources/sentinel_l2a'\n",
    "sent2_file_list = os.listdir(sent2_folder_path)\n",
    "print(sent2_file_list)"
   ]
  },
  {
   "cell_type": "markdown",
   "metadata": {},
   "source": [
    "import zipfile\n",
    "\n",
    "# Unzip files in sent1_folder_path\n",
    "for file in sent1_file_list:\n",
    "    file_path = os.path.join(sent1_folder_path, file)\n",
    "    with zipfile.ZipFile(file_path, 'r') as zip_ref:\n",
    "        zip_ref.extractall(sent1_folder_path)\n",
    "\n",
    "# Unzip files in sent2_folder_path\n",
    "for file in sent2_file_list:\n",
    "    file_path = os.path.join(sent2_folder_path, file)\n",
    "    with zipfile.ZipFile(file_path, 'r') as zip_ref:\n",
    "        zip_ref.extractall(sent2_folder_path)"
   ]
  },
  {
   "cell_type": "markdown",
   "metadata": {},
   "source": [
    "# Test the compatibility of LAI calculator\n",
    "---\n",
    "\tjsonloc (str)         : path to a field's .geojson file\n",
    "\tFNAME (str)           : name of field\n",
    "\tworkingdir (str)      : working directory (will be created if not existing)\n",
    "\ts1dir (str)           : folder containing the raw Sentinel-1 data (should be located inside workingdir)\n",
    "\ts2dir (str)           : folder containing the raw Sentinel-2 data (should be located inside workingdir)\n",
    "\tECMWF_ERA5_VPD (str)  : folder containing ECMWF ERA-5 VPD times-series (should be located inside workingdir)\n",
    "\tstartdate (str)       : first day of simulations (e.g. 2018-01-01)\n",
    "\tenddate (str)         : last day of simulations (e.g. 2020-12-31)\n",
    "\tsnap_graphs_dir (str) : directory containing the ESA SNAP graphs  \n",
    "\tsnap_gtp_dir (str)    : directory containing the ESA SNAP gpt app/exe "
   ]
  },
  {
   "cell_type": "code",
   "execution_count": 5,
   "metadata": {},
   "outputs": [
    {
     "name": "stderr",
     "output_type": "stream",
     "text": [
      "Fontconfig warning: ignoring UTF-8: not a valid region tag\n"
     ]
    }
   ],
   "source": [
    "import DS_10283_4086.LAI_S1S2_fusion as lai_fusion"
   ]
  },
  {
   "cell_type": "code",
   "execution_count": 29,
   "metadata": {},
   "outputs": [],
   "source": [
    "jsonloc = '../resources/lcm2021_tile_11_1014_647.geojson'\n",
    "FNAME = 'lcm2021'\n",
    "workingdir = '../resources'\n",
    "s1dir = '../resources/sentinel_1'\n",
    "s2dir = '../resources/sentinel_l2a'\n",
    "ECMWF_ERA5_VPD = '../resources/era_5'\n",
    "startdate = '2019-06-01'\n",
    "enddate = '2019-06-16'\n",
    "snap_graphs_dir = '../resources/snap_graphs'\n",
    "snap_gtp_dir = '/Applications/esa-snap/bin/snap.app'\n",
    "# snap_gpt_dir = 'C:\\Program Files\\esa-snap\\bin\\snap64.exe'"
   ]
  },
  {
   "cell_type": "code",
   "execution_count": 30,
   "metadata": {},
   "outputs": [
    {
     "ename": "FileNotFoundError",
     "evalue": "[Errno 2] No such file or directory: 'mkdir -p lcm2021'",
     "output_type": "error",
     "traceback": [
      "\u001b[0;31m---------------------------------------------------------------------------\u001b[0m",
      "\u001b[0;31mFileNotFoundError\u001b[0m                         Traceback (most recent call last)",
      "Cell \u001b[0;32mIn[30], line 1\u001b[0m\n\u001b[0;32m----> 1\u001b[0m lai_fusion\u001b[38;5;241m.\u001b[39mLAI_S1S2_fusion(jsonloc, workingdir, FNAME, s1dir, s2dir,\n\u001b[1;32m      2\u001b[0m                            ECMWF_ERA5_VPD, startdate, enddate, snap_graphs_dir, snap_gtp_dir)\u001b[38;5;241m.\u001b[39mS2_to_LAI\n",
      "File \u001b[0;32m~/GitHub/AgroManagement/examples/../DS_10283_4086/LAI_S1S2_fusion.py:64\u001b[0m, in \u001b[0;36mLAI_S1S2_fusion.__init__\u001b[0;34m(self, jsonloc, FNAME, workingdir, s1dir, s2dir, ECMWF_ERA5_VPD, snap_graphs_dir, snap_gtp_dir, startdate, enddate)\u001b[0m\n\u001b[1;32m     61\u001b[0m \u001b[38;5;28mself\u001b[39m\u001b[38;5;241m.\u001b[39mstartdate       \u001b[38;5;241m=\u001b[39m startdate\n\u001b[1;32m     62\u001b[0m \u001b[38;5;28mself\u001b[39m\u001b[38;5;241m.\u001b[39menddate         \u001b[38;5;241m=\u001b[39m enddate\n\u001b[0;32m---> 64\u001b[0m subprocess\u001b[38;5;241m.\u001b[39mcall(\u001b[38;5;124m'\u001b[39m\u001b[38;5;124mmkdir -p \u001b[39m\u001b[38;5;132;01m%s\u001b[39;00m\u001b[38;5;124m'\u001b[39m \u001b[38;5;241m%\u001b[39m\u001b[38;5;28mself\u001b[39m\u001b[38;5;241m.\u001b[39mworkingdir)\n",
      "File \u001b[0;32m/opt/anaconda3/envs/nevo/lib/python3.11/subprocess.py:389\u001b[0m, in \u001b[0;36mcall\u001b[0;34m(timeout, *popenargs, **kwargs)\u001b[0m\n\u001b[1;32m    381\u001b[0m \u001b[38;5;28;01mdef\u001b[39;00m \u001b[38;5;21mcall\u001b[39m(\u001b[38;5;241m*\u001b[39mpopenargs, timeout\u001b[38;5;241m=\u001b[39m\u001b[38;5;28;01mNone\u001b[39;00m, \u001b[38;5;241m*\u001b[39m\u001b[38;5;241m*\u001b[39mkwargs):\n\u001b[1;32m    382\u001b[0m \u001b[38;5;250m    \u001b[39m\u001b[38;5;124;03m\"\"\"Run command with arguments.  Wait for command to complete or\u001b[39;00m\n\u001b[1;32m    383\u001b[0m \u001b[38;5;124;03m    timeout, then return the returncode attribute.\u001b[39;00m\n\u001b[1;32m    384\u001b[0m \n\u001b[0;32m   (...)\u001b[0m\n\u001b[1;32m    387\u001b[0m \u001b[38;5;124;03m    retcode = call([\"ls\", \"-l\"])\u001b[39;00m\n\u001b[1;32m    388\u001b[0m \u001b[38;5;124;03m    \"\"\"\u001b[39;00m\n\u001b[0;32m--> 389\u001b[0m     \u001b[38;5;28;01mwith\u001b[39;00m Popen(\u001b[38;5;241m*\u001b[39mpopenargs, \u001b[38;5;241m*\u001b[39m\u001b[38;5;241m*\u001b[39mkwargs) \u001b[38;5;28;01mas\u001b[39;00m p:\n\u001b[1;32m    390\u001b[0m         \u001b[38;5;28;01mtry\u001b[39;00m:\n\u001b[1;32m    391\u001b[0m             \u001b[38;5;28;01mreturn\u001b[39;00m p\u001b[38;5;241m.\u001b[39mwait(timeout\u001b[38;5;241m=\u001b[39mtimeout)\n",
      "File \u001b[0;32m/opt/anaconda3/envs/nevo/lib/python3.11/subprocess.py:1026\u001b[0m, in \u001b[0;36mPopen.__init__\u001b[0;34m(self, args, bufsize, executable, stdin, stdout, stderr, preexec_fn, close_fds, shell, cwd, env, universal_newlines, startupinfo, creationflags, restore_signals, start_new_session, pass_fds, user, group, extra_groups, encoding, errors, text, umask, pipesize, process_group)\u001b[0m\n\u001b[1;32m   1022\u001b[0m         \u001b[38;5;28;01mif\u001b[39;00m \u001b[38;5;28mself\u001b[39m\u001b[38;5;241m.\u001b[39mtext_mode:\n\u001b[1;32m   1023\u001b[0m             \u001b[38;5;28mself\u001b[39m\u001b[38;5;241m.\u001b[39mstderr \u001b[38;5;241m=\u001b[39m io\u001b[38;5;241m.\u001b[39mTextIOWrapper(\u001b[38;5;28mself\u001b[39m\u001b[38;5;241m.\u001b[39mstderr,\n\u001b[1;32m   1024\u001b[0m                     encoding\u001b[38;5;241m=\u001b[39mencoding, errors\u001b[38;5;241m=\u001b[39merrors)\n\u001b[0;32m-> 1026\u001b[0m     \u001b[38;5;28mself\u001b[39m\u001b[38;5;241m.\u001b[39m_execute_child(args, executable, preexec_fn, close_fds,\n\u001b[1;32m   1027\u001b[0m                         pass_fds, cwd, env,\n\u001b[1;32m   1028\u001b[0m                         startupinfo, creationflags, shell,\n\u001b[1;32m   1029\u001b[0m                         p2cread, p2cwrite,\n\u001b[1;32m   1030\u001b[0m                         c2pread, c2pwrite,\n\u001b[1;32m   1031\u001b[0m                         errread, errwrite,\n\u001b[1;32m   1032\u001b[0m                         restore_signals,\n\u001b[1;32m   1033\u001b[0m                         gid, gids, uid, umask,\n\u001b[1;32m   1034\u001b[0m                         start_new_session, process_group)\n\u001b[1;32m   1035\u001b[0m \u001b[38;5;28;01mexcept\u001b[39;00m:\n\u001b[1;32m   1036\u001b[0m     \u001b[38;5;66;03m# Cleanup if the child failed starting.\u001b[39;00m\n\u001b[1;32m   1037\u001b[0m     \u001b[38;5;28;01mfor\u001b[39;00m f \u001b[38;5;129;01min\u001b[39;00m \u001b[38;5;28mfilter\u001b[39m(\u001b[38;5;28;01mNone\u001b[39;00m, (\u001b[38;5;28mself\u001b[39m\u001b[38;5;241m.\u001b[39mstdin, \u001b[38;5;28mself\u001b[39m\u001b[38;5;241m.\u001b[39mstdout, \u001b[38;5;28mself\u001b[39m\u001b[38;5;241m.\u001b[39mstderr)):\n",
      "File \u001b[0;32m/opt/anaconda3/envs/nevo/lib/python3.11/subprocess.py:1953\u001b[0m, in \u001b[0;36mPopen._execute_child\u001b[0;34m(self, args, executable, preexec_fn, close_fds, pass_fds, cwd, env, startupinfo, creationflags, shell, p2cread, p2cwrite, c2pread, c2pwrite, errread, errwrite, restore_signals, gid, gids, uid, umask, start_new_session, process_group)\u001b[0m\n\u001b[1;32m   1951\u001b[0m     err_msg \u001b[38;5;241m=\u001b[39m os\u001b[38;5;241m.\u001b[39mstrerror(errno_num)\n\u001b[1;32m   1952\u001b[0m \u001b[38;5;28;01mif\u001b[39;00m err_filename \u001b[38;5;129;01mis\u001b[39;00m \u001b[38;5;129;01mnot\u001b[39;00m \u001b[38;5;28;01mNone\u001b[39;00m:\n\u001b[0;32m-> 1953\u001b[0m     \u001b[38;5;28;01mraise\u001b[39;00m child_exception_type(errno_num, err_msg, err_filename)\n\u001b[1;32m   1954\u001b[0m \u001b[38;5;28;01melse\u001b[39;00m:\n\u001b[1;32m   1955\u001b[0m     \u001b[38;5;28;01mraise\u001b[39;00m child_exception_type(errno_num, err_msg)\n",
      "\u001b[0;31mFileNotFoundError\u001b[0m: [Errno 2] No such file or directory: 'mkdir -p lcm2021'"
     ]
    }
   ],
   "source": [
    "lai_fusion.LAI_S1S2_fusion(jsonloc, workingdir, FNAME, s1dir, s2dir,\n",
    "                           ECMWF_ERA5_VPD, startdate, enddate, snap_graphs_dir, snap_gtp_dir).S2_to_LAI"
   ]
  },
  {
   "cell_type": "code",
   "execution_count": null,
   "metadata": {},
   "outputs": [],
   "source": []
  }
 ],
 "metadata": {
  "kernelspec": {
   "display_name": "Agro",
   "language": "python",
   "name": "python3"
  },
  "language_info": {
   "codemirror_mode": {
    "name": "ipython",
    "version": 3
   },
   "file_extension": ".py",
   "mimetype": "text/x-python",
   "name": "python",
   "nbconvert_exporter": "python",
   "pygments_lexer": "ipython3",
   "version": "3.11.8"
  }
 },
 "nbformat": 4,
 "nbformat_minor": 2
}
