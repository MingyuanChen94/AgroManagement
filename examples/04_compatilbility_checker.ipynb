{
 "cells": [
  {
   "cell_type": "markdown",
   "metadata": {},
   "source": [
    "# Check how LAI package works with the downloaded Sentinel-1, Sentinel-2, and ERA-5 data\n",
    "\n",
    "---\n"
   ]
  },
  {
   "cell_type": "markdown",
   "metadata": {},
   "source": [
    "## Unzip the Sentinel-1 and Sentinel-2 data downloaded"
   ]
  },
  {
   "cell_type": "code",
   "execution_count": 6,
   "metadata": {},
   "outputs": [],
   "source": [
    "# Update sys path so notebook can access the LAI package\n",
    "import sys\n",
    "sys.path.append('../')"
   ]
  },
  {
   "cell_type": "code",
   "execution_count": 8,
   "metadata": {},
   "outputs": [
    {
     "name": "stdout",
     "output_type": "stream",
     "text": [
      "['S1A_IW_GRDH_1SDV_20190602T175033_20190602T175058_027504_031A7F_0303.zip', 'S1A_IW_GRDH_1SDV_20190602T175033_20190602T175058_027504_031A7F_94ED.zip', 'S1A_IW_GRDH_1SDV_20190604T062204_20190604T062229_027526_031B26_CA5A.zip', 'S1A_IW_GRDH_1SDV_20190604T062212_20190604T062237_027526_031B26_96D5.zip', 'S1A_IW_GRDH_1SDV_20190607T175845_20190607T175910_027577_031CAE_3295.zip', 'S1A_IW_GRDH_1SDV_20190607T175845_20190607T175910_027577_031CAE_FA6E.zip', 'S1A_IW_GRDH_1SDV_20190609T063019_20190609T063044_027599_031D5A_D642.zip', 'S1A_IW_GRDH_1SDV_20190609T063022_20190609T063047_027599_031D5A_B62D.zip', 'S1A_IW_GRDH_1SDV_20190614T175033_20190614T175058_027679_031FCB_0275.zip', 'S1A_IW_GRDH_1SDV_20190614T175033_20190614T175058_027679_031FCB_3C3D.zip', 'S1B_IW_GRDH_1SDV_20190601T175752_20190601T175817_016506_01F115_181A.zip', 'S1B_IW_GRDH_1SDV_20190601T175752_20190601T175817_016506_01F115_AF1B.zip', 'S1B_IW_GRDH_1SDV_20190603T062928_20190603T062953_016528_01F1C5_126E.zip', 'S1B_IW_GRDH_1SDV_20190608T174945_20190608T175010_016608_01F423_4792.zip', 'S1B_IW_GRDH_1SDV_20190608T174945_20190608T175010_016608_01F423_88F8.zip', 'S1B_IW_GRDH_1SDV_20190610T062117_20190610T062142_016630_01F4CC_28C8.zip', 'S1B_IW_GRDH_1SDV_20190610T062122_20190610T062147_016630_01F4CC_0C29.zip', 'S1B_IW_GRDH_1SDV_20190613T175753_20190613T175818_016681_01F64B_025E.zip', 'S1B_IW_GRDH_1SDV_20190613T175753_20190613T175818_016681_01F64B_D0A5.zip', 'S1B_IW_GRDH_1SDV_20190615T062929_20190615T062954_016703_01F6F5_2D9F.zip', 'S1B_IW_GRDH_1SDV_20190615T062938_20190615T063003_016703_01F6F5_9823.zip']\n",
      "['S2A_MSIL2A_20190604T112121_N0212_R037_T30UWF_20190604T141449.zip', 'S2A_MSIL2A_20190604T112121_N0212_R037_T30UWG_20190604T141449.zip', 'S2A_MSIL2A_20190604T112121_N0500_R037_T30UWF_20230723T065324.zip', 'S2A_MSIL2A_20190604T112121_N0500_R037_T30UWG_20230723T065324.zip', 'S2A_MSIL2A_20190614T112121_N0212_R037_T30UWF_20190614T124042.zip', 'S2A_MSIL2A_20190614T112121_N0212_R037_T30UWG_20190614T124042.zip', 'S2A_MSIL2A_20190614T112121_N0500_R037_T30UWF_20230606T020247.zip', 'S2A_MSIL2A_20190614T112121_N0500_R037_T30UWG_20230606T020247.zip', 'S2B_MSIL2A_20190609T112119_N0212_R037_T30UWF_20190609T142230.zip', 'S2B_MSIL2A_20190609T112119_N0212_R037_T30UWG_20190609T142230.zip', 'S2B_MSIL2A_20190609T112119_N0500_R037_T30UWF_20230605T191405.zip', 'S2B_MSIL2A_20190609T112119_N0500_R037_T30UWG_20230605T191405.zip']\n"
     ]
    }
   ],
   "source": [
    "import os\n",
    "\n",
    "# List the files in the sentinel 1 and 2 folders\n",
    "## Sentinel 1\n",
    "sent1_folder_path = '../resources/sentinel_1'\n",
    "sent1_file_list = os.listdir(sent1_folder_path)\n",
    "print(sent1_file_list)\n",
    "## Sentinel 2\n",
    "sent2_folder_path = '../resources/sentinel_l2a'\n",
    "sent2_file_list = os.listdir(sent2_folder_path)\n",
    "print(sent2_file_list)\n"
   ]
  },
  {
   "cell_type": "code",
   "execution_count": 10,
   "metadata": {},
   "outputs": [],
   "source": [
    "import zipfile\n",
    "\n",
    "# Unzip files in sent1_folder_path\n",
    "for file in sent1_file_list:\n",
    "    file_path = os.path.join(sent1_folder_path, file)\n",
    "    with zipfile.ZipFile(file_path, 'r') as zip_ref:\n",
    "        zip_ref.extractall(sent1_folder_path)\n",
    "\n",
    "# Unzip files in sent2_folder_path\n",
    "for file in sent2_file_list:\n",
    "    file_path = os.path.join(sent2_folder_path, file)\n",
    "    with zipfile.ZipFile(file_path, 'r') as zip_ref:\n",
    "        zip_ref.extractall(sent2_folder_path)\n",
    "\n"
   ]
  },
  {
   "cell_type": "markdown",
   "metadata": {},
   "source": []
  }
 ],
 "metadata": {
  "kernelspec": {
   "display_name": "Agro",
   "language": "python",
   "name": "python3"
  },
  "language_info": {
   "codemirror_mode": {
    "name": "ipython",
    "version": 3
   },
   "file_extension": ".py",
   "mimetype": "text/x-python",
   "name": "python",
   "nbconvert_exporter": "python",
   "pygments_lexer": "ipython3",
   "version": "3.11.8"
  }
 },
 "nbformat": 4,
 "nbformat_minor": 2
}
