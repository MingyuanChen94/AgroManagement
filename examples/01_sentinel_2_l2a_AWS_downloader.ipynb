{
 "cells": [
  {
   "cell_type": "markdown",
   "metadata": {},
   "source": [
    "# Example downloader of the Sentinel 2 L2A data from AWS\n",
    "\n",
    "This notebook goes through the process to identifying and downloading the Sentinel 2 L2A data from Amazon AWS.  \n",
    "It is closely based on [Martin D. Maas](https://github.com/mdmaas) instructions which can be found [here](https://www.matecdev.com/posts/landsat-sentinel-aws-s3-python.html)."
   ]
  },
  {
   "cell_type": "code",
   "execution_count": null,
   "metadata": {},
   "outputs": [],
   "source": [
    "# Update sys path so notebook can access the agromanagement package\n",
    "import sys\n",
    "sys.path.append('../')"
   ]
  },
  {
   "cell_type": "markdown",
   "metadata": {},
   "source": [
    "## Step 1: configure access to the AWS servers\n",
    "The first step consists in the creation and configuration of an AWS account. This can be done following the instructions found on the [AWS website](https://repost.aws/knowledge-center/create-and-activate-aws-account).  \n",
    "Next, we need to install and set up the [AWS CLI](https://docs.aws.amazon.com/cli/latest/userguide/getting-started-install.html).\n",
    "\n",
    "## Step 2: configure access to the STAC server containing the search catalog of Sentinel-2\n",
    "We now need to define the STAC server and explore the available collections. \n",
    "For Sentinel 2, we will be using the [following server](https://earth-search.aws.element84.com/v0), maintained by the team of [Element84](https://www.element84.com). \n",
    "The python package sat-search, which is included in the Conda environment for this project, is the client that will allow us to search and explore the Sentinel 2 data collections."
   ]
  },
  {
   "cell_type": "code",
   "execution_count": null,
   "metadata": {},
   "outputs": [],
   "source": [
    "import satsearch\n",
    "\n",
    "# Declare server\n",
    "SENTINEL_SERVER = \"https://earth-search.aws.element84.com/v0\"\n",
    "\n",
    "# build stac collection\n",
    "sentinel_stac = satsearch.Search.search(url=SENTINEL_SERVER)\n",
    "print(f\"Found {str(sentinel_stac.found())} items\")"
   ]
  },
  {
   "cell_type": "markdown",
   "metadata": {},
   "source": [
    "## Step 3: Define a location of interest\n",
    "We query the Sentinel 2 L2A dataset spatially from the geometry of a parcel or set of coordinates of interest.  \n",
    "In this example we are going to use a parcel with its geometry (i.e., a shapefile)."
   ]
  },
  {
   "cell_type": "code",
   "execution_count": null,
   "metadata": {},
   "outputs": [],
   "source": [
    "import geopandas as gpd\n",
    "import matplotlib.pyplot as plt\n",
    "\n",
    "# Load a parcel from data\n",
    "parcels = gpd.read_file(\"../resources/\" + \"lcm2021_tile_11_1014_647.geojson\")\n",
    "parcel = parcels.iloc[1025:1026,:]\n",
    "print(parcel)\n",
    "\n",
    "# plot the parcel\n",
    "parcel.plot()\n",
    "plt.show()"
   ]
  },
  {
   "cell_type": "code",
   "execution_count": null,
   "metadata": {},
   "outputs": [],
   "source": [
    "from shapely.geometry import mapping\n",
    "\n",
    "# define bounding box of the parcel of interest\n",
    "geometry = parcel.iloc[0,:][\"geometry\"]\n",
    "geom_json = mapping(geometry)"
   ]
  },
  {
   "cell_type": "markdown",
   "metadata": {},
   "source": [
    "## Step 4: define the temporal timeframe of interest"
   ]
  },
  {
   "cell_type": "code",
   "execution_count": null,
   "metadata": {},
   "outputs": [],
   "source": [
    "# define a time range of interest\n",
    "time_range = '2019-01-01/2021-12-31'"
   ]
  },
  {
   "cell_type": "markdown",
   "metadata": {},
   "source": [
    "# Step 4: explore the collection of available data for the location of interest and the specified temporal interval"
   ]
  },
  {
   "cell_type": "code",
   "execution_count": null,
   "metadata": {},
   "outputs": [],
   "source": [
    "sentinel_search = satsearch.Search.search( \n",
    "    url = SENTINEL_SERVER,\n",
    "    intersects = geom_json,\n",
    "    datetime = time_range,\n",
    "    collections = ['sentinel-s2-l2a-cogs']\n",
    ")\n",
    "\n",
    "sentinel_items = sentinel_search.items()\n",
    "print(sentinel_items.summary())"
   ]
  },
  {
   "cell_type": "markdown",
   "metadata": {},
   "source": [
    "We are going to focus, for this example, on only one of the items that are available for the selected location and timeframe"
   ]
  },
  {
   "cell_type": "code",
   "execution_count": null,
   "metadata": {},
   "outputs": [],
   "source": [
    "item = sentinel_items[0]\n",
    "print(item)"
   ]
  },
  {
   "cell_type": "markdown",
   "metadata": {},
   "source": [
    "We can look at the content of the object `item`, querying the `assets` property:"
   ]
  },
  {
   "cell_type": "code",
   "execution_count": null,
   "metadata": {},
   "outputs": [],
   "source": [
    "print(item.assets.keys())"
   ]
  },
  {
   "cell_type": "markdown",
   "metadata": {},
   "source": [
    "We can see that our `item` contains some information (*overview, thumbnail, metadata, visual, info*) and a series of spectral bands (*B01* to *B12*, and *AOT, B8A, WVP, SCL*).  \n",
    "Information on the bands can be found [here](https://docs.sentinel-hub.com/api/latest/data/sentinel-2-l2a/).\n",
    "\n",
    "**NOTE:**  \n",
    "Different bands have different spatial resolutions, from 10m to 160m."
   ]
  },
  {
   "cell_type": "markdown",
   "metadata": {},
   "source": [
    "We can check the content of a band as follows:"
   ]
  },
  {
   "cell_type": "code",
   "execution_count": null,
   "metadata": {},
   "outputs": [],
   "source": [
    "print(item.assets[\"B02\"].keys())"
   ]
  },
  {
   "cell_type": "markdown",
   "metadata": {},
   "source": [
    "We can see that `B02` is the blue band:"
   ]
  },
  {
   "cell_type": "code",
   "execution_count": null,
   "metadata": {},
   "outputs": [],
   "source": [
    "print(item.assets[\"B02\"]['eo:bands'])"
   ]
  },
  {
   "cell_type": "markdown",
   "metadata": {},
   "source": [
    "## STEP 5: Download the data\n",
    "Now we can proceed to download the data of interest. This is done using the function `download_sentinel` which takes the following arguments:\n",
    "- `geotiff_file`: the link to the data to be donwloaded\n",
    "- `output_folder`: where the downloaded data will be stored.\n",
    "The stored data will be contained in `ouput_folder` into a series of subfolders, one for each tile at each point in time, follwong standard Sentinel 2 naming convention: \n",
    "***MMM_XXXXX_YYYYMMDD_A_L2A*** where:\n",
    "- ***MMM*** is the mission ID(S2A/S2B)\n",
    "- ***XXXXX*** is the tile number field (e.g. 30UWF where *30* is the UTM zone, *U* is the latitude band and *WF* is the grid square)\n",
    "- ***YYYYMMDDHHMMSS*** represents the capture date.\n",
    "\n",
    "**NOTE:**  \n",
    "more info can be retrieved from the `info` key in the `item.assets` dictionary"
   ]
  },
  {
   "cell_type": "code",
   "execution_count": null,
   "metadata": {},
   "outputs": [],
   "source": [
    "from agromanagement.utility.data_downloaders import download_sentinel\n",
    "\n",
    "SENTINEL_OUTPUT_FOLDER = \"../resources/sentinel_l2a/\"\n",
    "geotiff_file = item.assets[\"B02\"][\"href\"]\n",
    "\n",
    "tile_data = download_sentinel(\n",
    "    geotiff_file=geotiff_file,\n",
    ")\n",
    "print(tile_data.keys())\n",
    "print(tile_data[\"metadata\"])\n"
   ]
  }
 ],
 "metadata": {
  "kernelspec": {
   "display_name": "agromanagement",
   "language": "python",
   "name": "python3"
  },
  "language_info": {
   "codemirror_mode": {
    "name": "ipython",
    "version": 3
   },
   "file_extension": ".py",
   "mimetype": "text/x-python",
   "name": "python",
   "nbconvert_exporter": "python",
   "pygments_lexer": "ipython3",
   "version": "3.11.8"
  }
 },
 "nbformat": 4,
 "nbformat_minor": 2
}
